{
 "cells": [
  {
   "cell_type": "code",
   "execution_count": 2,
   "metadata": {},
   "outputs": [],
   "source": [
    "import numpy as np\n",
    "import matplotlib.pyplot as plt\n",
    "from PIL import Image\n",
    "import glob\n",
    "%matplotlib inline\n",
    "import os"
   ]
  },
  {
   "cell_type": "code",
   "execution_count": null,
   "metadata": {},
   "outputs": [],
   "source": []
  },
  {
   "cell_type": "code",
   "execution_count": 3,
   "metadata": {},
   "outputs": [],
   "source": [
    "img_orig = []\n",
    "img_rs = []"
   ]
  },
  {
   "cell_type": "code",
   "execution_count": 4,
   "metadata": {},
   "outputs": [
    {
     "name": "stdout",
     "output_type": "stream",
     "text": [
      "done.png\n",
      "manu.png\n",
      "mcity.png\n"
     ]
    }
   ],
   "source": [
    "for filename in glob.glob('*.png'):\n",
    "    print(filename)\n",
    "    b = Image.open(filename)\n",
    "    img_orig.append(b)\n",
    "    "
   ]
  },
  {
   "cell_type": "code",
   "execution_count": 5,
   "metadata": {},
   "outputs": [
    {
     "data": {
      "text/plain": [
       "[<PIL.PngImagePlugin.PngImageFile image mode=P size=512x512 at 0x5DB7D50>,\n",
       " <PIL.PngImagePlugin.PngImageFile image mode=P size=505x512 at 0x5E5D430>,\n",
       " <PIL.PngImagePlugin.PngImageFile image mode=RGBA size=96x96 at 0x5E5D4B0>]"
      ]
     },
     "execution_count": 5,
     "metadata": {},
     "output_type": "execute_result"
    }
   ],
   "source": [
    "img_orig"
   ]
  },
  {
   "cell_type": "code",
   "execution_count": 8,
   "metadata": {},
   "outputs": [],
   "source": [
    "for files in img_orig:\n",
    "    y = files.resize((100,100))\n",
    "    img_rs.append(y)\n",
    "#     files.show()\n",
    "    "
   ]
  },
  {
   "cell_type": "code",
   "execution_count": 21,
   "metadata": {},
   "outputs": [],
   "source": [
    "by = []\n",
    "for rim in img_rs:\n",
    "#     rim.show()\n",
    "    by.append(rim)\n",
    "\n",
    "fullpath = os.path.join(\"/Users/PRECIOUS/Desktop/\", 'mcity' + '.' + 'png')\n",
    "rim.save(fullpath)\n"
   ]
  },
  {
   "cell_type": "code",
   "execution_count": 22,
   "metadata": {},
   "outputs": [],
   "source": [
    "fullpath = os.path.join(\"/Users/PRECIOUS/Desktop/\", 'mcity' + '.' + 'png')\n",
    "rim.save(fullpath)"
   ]
  },
  {
   "cell_type": "code",
   "execution_count": 23,
   "metadata": {},
   "outputs": [],
   "source": [
    "newpath = os.path.join(\"\")"
   ]
  },
  {
   "cell_type": "code",
   "execution_count": null,
   "metadata": {},
   "outputs": [],
   "source": []
  }
 ],
 "metadata": {
  "kernelspec": {
   "display_name": "Python 3",
   "language": "python",
   "name": "python3"
  },
  "language_info": {
   "codemirror_mode": {
    "name": "ipython",
    "version": 3
   },
   "file_extension": ".py",
   "mimetype": "text/x-python",
   "name": "python",
   "nbconvert_exporter": "python",
   "pygments_lexer": "ipython3",
   "version": "3.7.6"
  }
 },
 "nbformat": 4,
 "nbformat_minor": 4
}
