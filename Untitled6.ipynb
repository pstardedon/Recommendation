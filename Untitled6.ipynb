{
 "cells": [
  {
   "cell_type": "code",
   "execution_count": 1,
   "metadata": {},
   "outputs": [],
   "source": [
    "import numpy as np\n",
    "import matplotlib.pyplot as plt\n",
    "%matplotlib inline\n",
    "import glob\n",
    "from PIL import Image\n",
    "import os"
   ]
  },
  {
   "cell_type": "code",
   "execution_count": 3,
   "metadata": {},
   "outputs": [
    {
     "name": "stdout",
     "output_type": "stream",
     "text": [
      "done.png\n",
      "GBETOCIOUS.png\n",
      "logo.png\n",
      "manu.png\n",
      "mcity.png\n"
     ]
    }
   ],
   "source": [
    "oimg=[]\n",
    "rimg=[]\n",
    "\n",
    "for pics in glob.glob('*.png'):\n",
    "    print(pics)\n",
    "    y = Image.open(pics)\n",
    "    oimg.append(y)"
   ]
  },
  {
   "cell_type": "code",
   "execution_count": 4,
   "metadata": {},
   "outputs": [
    {
     "data": {
      "text/plain": [
       "[<PIL.PngImagePlugin.PngImageFile image mode=P size=512x512 at 0x4263B30>,\n",
       " <PIL.PngImagePlugin.PngImageFile image mode=RGB size=172x200 at 0x58D530>,\n",
       " <PIL.PngImagePlugin.PngImageFile image mode=RGBA size=536x564 at 0x58D570>,\n",
       " <PIL.PngImagePlugin.PngImageFile image mode=P size=505x512 at 0x58D610>,\n",
       " <PIL.PngImagePlugin.PngImageFile image mode=RGBA size=96x96 at 0x58D5D0>]"
      ]
     },
     "execution_count": 4,
     "metadata": {},
     "output_type": "execute_result"
    }
   ],
   "source": [
    "oimg"
   ]
  },
  {
   "cell_type": "code",
   "execution_count": 5,
   "metadata": {},
   "outputs": [],
   "source": [
    "for items in oimg:\n",
    "    b = items.resize((100,100))\n",
    "    rimg.append(b)    "
   ]
  },
  {
   "cell_type": "code",
   "execution_count": 11,
   "metadata": {},
   "outputs": [],
   "source": [
    "for ri in rimg:\n",
    "    ri.show()"
   ]
  },
  {
   "cell_type": "code",
   "execution_count": 14,
   "metadata": {},
   "outputs": [],
   "source": [
    "path = os.path.join('C:/Users/PRECIOUS/Desktop','newfile.png')\n",
    "b.save(path)"
   ]
  },
  {
   "cell_type": "code",
   "execution_count": 15,
   "metadata": {},
   "outputs": [],
   "source": [
    "for ti in rimg:\n",
    "    ti.show()"
   ]
  },
  {
   "cell_type": "code",
   "execution_count": 17,
   "metadata": {},
   "outputs": [],
   "source": [
    "path1 = os.path.join('C:/Users/PRECIOUS/Desktop', 'edwinresize.png')\n",
    "b.save(path1)"
   ]
  },
  {
   "cell_type": "code",
   "execution_count": 18,
   "metadata": {},
   "outputs": [],
   "source": [
    "eimg=[]\n",
    "erimg=[]"
   ]
  },
  {
   "cell_type": "code",
   "execution_count": 22,
   "metadata": {},
   "outputs": [
    {
     "name": "stdout",
     "output_type": "stream",
     "text": [
      "done.png\n",
      "GBETOCIOUS.png\n",
      "logo.png\n",
      "manu.png\n",
      "mcity.png\n"
     ]
    }
   ],
   "source": [
    "for edwin in glob.glob('*.png'):\n",
    "    print(edwin)\n",
    "    x=Image.open(edwin)\n",
    "    eimg.append(x)"
   ]
  },
  {
   "cell_type": "code",
   "execution_count": 24,
   "metadata": {},
   "outputs": [
    {
     "data": {
      "text/plain": [
       "[<PIL.PngImagePlugin.PngImageFile image mode=P size=512x512 at 0x1AB6210>,\n",
       " <PIL.PngImagePlugin.PngImageFile image mode=RGB size=172x200 at 0x9C272F0>,\n",
       " <PIL.PngImagePlugin.PngImageFile image mode=RGBA size=536x564 at 0x1AB6190>,\n",
       " <PIL.PngImagePlugin.PngImageFile image mode=P size=505x512 at 0x755430>,\n",
       " <PIL.PngImagePlugin.PngImageFile image mode=RGBA size=96x96 at 0x1AB61F0>]"
      ]
     },
     "execution_count": 24,
     "metadata": {},
     "output_type": "execute_result"
    }
   ],
   "source": [
    "eimg"
   ]
  },
  {
   "cell_type": "code",
   "execution_count": 26,
   "metadata": {},
   "outputs": [],
   "source": [
    "for w in eimg:\n",
    "    w.show()"
   ]
  },
  {
   "cell_type": "code",
   "execution_count": 27,
   "metadata": {},
   "outputs": [
    {
     "name": "stdout",
     "output_type": "stream",
     "text": [
      "<PIL.PngImagePlugin.PngImageFile image mode=P size=512x512 at 0x1AB6210>\n",
      "<PIL.PngImagePlugin.PngImageFile image mode=RGB size=172x200 at 0x9C272F0>\n",
      "<PIL.PngImagePlugin.PngImageFile image mode=RGBA size=536x564 at 0x1AB6190>\n",
      "<PIL.PngImagePlugin.PngImageFile image mode=P size=505x512 at 0x755430>\n",
      "<PIL.PngImagePlugin.PngImageFile image mode=RGBA size=96x96 at 0x1AB61F0>\n"
     ]
    }
   ],
   "source": [
    "for edwinresize in eimg:\n",
    "    print(edwinresize)\n",
    "    k= edwinresize.resize((100,100))\n",
    "    erimg.append(k)"
   ]
  },
  {
   "cell_type": "code",
   "execution_count": 28,
   "metadata": {},
   "outputs": [
    {
     "data": {
      "text/plain": [
       "[<PIL.Image.Image image mode=P size=100x100 at 0x755F70>,\n",
       " <PIL.Image.Image image mode=RGB size=100x100 at 0x1AB6A50>,\n",
       " <PIL.Image.Image image mode=RGBA size=100x100 at 0x1AB6990>,\n",
       " <PIL.Image.Image image mode=P size=100x100 at 0x1AB69D0>,\n",
       " <PIL.Image.Image image mode=RGBA size=100x100 at 0x1AB69B0>]"
      ]
     },
     "execution_count": 28,
     "metadata": {},
     "output_type": "execute_result"
    }
   ],
   "source": [
    "erimg"
   ]
  },
  {
   "cell_type": "code",
   "execution_count": 29,
   "metadata": {},
   "outputs": [],
   "source": [
    "for o in erimg:\n",
    "    o.show()"
   ]
  },
  {
   "cell_type": "code",
   "execution_count": null,
   "metadata": {},
   "outputs": [],
   "source": [
    "edwinpath = os.edwinpath.join('')"
   ]
  }
 ],
 "metadata": {
  "kernelspec": {
   "display_name": "Python 3",
   "language": "python",
   "name": "python3"
  },
  "language_info": {
   "codemirror_mode": {
    "name": "ipython",
    "version": 3
   },
   "file_extension": ".py",
   "mimetype": "text/x-python",
   "name": "python",
   "nbconvert_exporter": "python",
   "pygments_lexer": "ipython3",
   "version": "3.7.6"
  }
 },
 "nbformat": 4,
 "nbformat_minor": 4
}
